{
 "cells": [
  {
   "cell_type": "markdown",
   "metadata": {},
   "source": [
    "# formatのテスト"
   ]
  },
  {
   "cell_type": "code",
   "execution_count": 1,
   "metadata": {
    "collapsed": true
   },
   "outputs": [],
   "source": [
    "name = \"川久保智晴\"\n",
    "height = 181.235\n",
    "weight = 85.823"
   ]
  },
  {
   "cell_type": "markdown",
   "metadata": {},
   "source": [
    "### その1・・・文字列結合"
   ]
  },
  {
   "cell_type": "code",
   "execution_count": 2,
   "metadata": {
    "collapsed": false
   },
   "outputs": [
    {
     "name": "stdout",
     "output_type": "stream",
     "text": [
      "川久保智晴さんの身長は181.235cm、で体重は85.823kgです。\n"
     ]
    }
   ],
   "source": [
    "print(name + \"さんの身長は\" + str(height) + \"cm、で体重は\" + str(weight) + \"kgです。\")"
   ]
  },
  {
   "cell_type": "markdown",
   "metadata": {},
   "source": [
    "### その2・・・プレイスフォルダなしのformat"
   ]
  },
  {
   "cell_type": "code",
   "execution_count": 3,
   "metadata": {
    "collapsed": false
   },
   "outputs": [
    {
     "name": "stdout",
     "output_type": "stream",
     "text": [
      "川久保智晴さんの身長は181.235cm、体重は85.823kgです。\n"
     ]
    }
   ],
   "source": [
    "print(\"{}さんの身長は{}cm、体重は{}kgです。\".format(name, height, weight))"
   ]
  },
  {
   "cell_type": "markdown",
   "metadata": {},
   "source": [
    "### その3・・・プレイスフォルダありのformat"
   ]
  },
  {
   "cell_type": "code",
   "execution_count": 5,
   "metadata": {
    "collapsed": false
   },
   "outputs": [
    {
     "name": "stdout",
     "output_type": "stream",
     "text": [
      "川久保智晴さんの身長は181.235cm、体重は85.823kgです。\n"
     ]
    }
   ],
   "source": [
    "print(\"{2}さんの身長は{1}cm、体重は{0}kgです。\".format(weight, height, name))"
   ]
  },
  {
   "cell_type": "markdown",
   "metadata": {},
   "source": [
    "### その4・・・書式付きプレイスフォルダありのformat"
   ]
  },
  {
   "cell_type": "code",
   "execution_count": 7,
   "metadata": {
    "collapsed": false
   },
   "outputs": [
    {
     "name": "stdout",
     "output_type": "stream",
     "text": [
      "川久保智晴さんの身長は181.2cm、体重は85.8kgです。\n"
     ]
    }
   ],
   "source": [
    "print(\"{2}さんの身長は{1:.1f}cm、体重は{0:.1f}kgです。\".format(weight, height, name))"
   ]
  },
  {
   "cell_type": "markdown",
   "metadata": {},
   "source": [
    "### その5・・・キーワード引数でのformat"
   ]
  },
  {
   "cell_type": "code",
   "execution_count": 8,
   "metadata": {
    "collapsed": false
   },
   "outputs": [
    {
     "name": "stdout",
     "output_type": "stream",
     "text": [
      "川久保智晴さんの身長は181.235cm、体重は85.823kgです。\n"
     ]
    }
   ],
   "source": [
    "print(\"{namae}さんの身長は{shinchou}cm、体重は{taijuu}kgです。\"\n",
    "      .format(namae = name, shinchou = height, taijuu = weight))"
   ]
  },
  {
   "cell_type": "markdown",
   "metadata": {},
   "source": [
    "### その6・・・書式付きのキーワード引数でのformat"
   ]
  },
  {
   "cell_type": "code",
   "execution_count": 9,
   "metadata": {
    "collapsed": false
   },
   "outputs": [
    {
     "name": "stdout",
     "output_type": "stream",
     "text": [
      "川久保智晴さんの身長は181.2cm、体重は85.8kgです。\n"
     ]
    }
   ],
   "source": [
    "print(\"{namae}さんの身長は{shinchou:.1f}cm、体重は{taijuu:.1f}kgです。\"\n",
    "      .format(namae = name, shinchou = height, taijuu = weight))"
   ]
  },
  {
   "cell_type": "code",
   "execution_count": null,
   "metadata": {
    "collapsed": true
   },
   "outputs": [],
   "source": []
  }
 ],
 "metadata": {
  "anaconda-cloud": {},
  "kernelspec": {
   "display_name": "Python [default]",
   "language": "python",
   "name": "python3"
  },
  "language_info": {
   "codemirror_mode": {
    "name": "ipython",
    "version": 3
   },
   "file_extension": ".py",
   "mimetype": "text/x-python",
   "name": "python",
   "nbconvert_exporter": "python",
   "pygments_lexer": "ipython3",
   "version": "3.5.2"
  }
 },
 "nbformat": 4,
 "nbformat_minor": 1
}
